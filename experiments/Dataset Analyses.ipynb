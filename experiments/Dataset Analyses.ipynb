{
 "cells": [
  {
   "cell_type": "markdown",
   "id": "9df4bc53-724a-416d-88fb-395a2ffcb491",
   "metadata": {},
   "source": [
    "# Datasets analyses"
   ]
  },
  {
   "cell_type": "markdown",
   "id": "983ca5d5-2af5-494f-ae10-db6b239cf6d6",
   "metadata": {},
   "source": [
    "## Random audios (MIDI Dataset)"
   ]
  },
  {
   "cell_type": "code",
   "execution_count": 11,
   "id": "284affba-e289-4087-842d-c17c544f27f1",
   "metadata": {},
   "outputs": [],
   "source": [
    "import pandas as pd\n",
    "\n",
    "def get_split_stats(file_path):\n",
    "    data = pd.read_csv(file_path, delimiter='\\t', header=None)\n",
    "    content_melodies = data[0].str.extract(r'data_(\\d{3})_')[0].unique()\n",
    "    style_instruments = data[1].str.extract(r'_(\\d{3})\\.wav')[0].unique()\n",
    "    result_files = data[2].unique()\n",
    "    return len(result_files), content_melodies, style_instruments\n",
    "\n",
    "splits = {\n",
    "    'Train': '../data/random_audios/splits/training_set.csv',\n",
    "    'Val1': '../data/random_audios/splits/validation_set_1.csv',\n",
    "    'Val2': '../data/random_audios/splits/validation_set_2.csv',\n",
    "    'Test': '../data/random_audios/splits/test_set.csv'\n",
    "}\n",
    "\n",
    "stats = {}\n",
    "for split_name, file_path in splits.items():\n",
    "    num_samples, melody_ids, instrument_ids = get_split_stats(file_path)\n",
    "    stats[split_name] = {\n",
    "        'Number of Samples': num_samples,\n",
    "        'Melody ID Range': f\"{melody_ids.min()}-{melody_ids.max()}\",\n",
    "        'Unique Melody IDs': len(melody_ids),\n",
    "        'Instrument ID Range': f\"{instrument_ids.min()}-{instrument_ids.max()}\",\n",
    "        'Unique Instrument IDs': len(instrument_ids),\n",
    "        'Instruments Notes': 'Only 041-050' if split_name == 'Val2' else 'Excludes 041-050'\n",
    "    }\n",
    "\n",
    "stats_df = pd.DataFrame.from_dict(stats, orient='index')"
   ]
  },
  {
   "cell_type": "code",
   "execution_count": 12,
   "id": "64dbf763-0acb-4ffa-a1ab-265c9056c798",
   "metadata": {},
   "outputs": [
    {
     "data": {
      "text/html": [
       "<div>\n",
       "<style scoped>\n",
       "    .dataframe tbody tr th:only-of-type {\n",
       "        vertical-align: middle;\n",
       "    }\n",
       "\n",
       "    .dataframe tbody tr th {\n",
       "        vertical-align: top;\n",
       "    }\n",
       "\n",
       "    .dataframe thead th {\n",
       "        text-align: right;\n",
       "    }\n",
       "</style>\n",
       "<table border=\"1\" class=\"dataframe\">\n",
       "  <thead>\n",
       "    <tr style=\"text-align: right;\">\n",
       "      <th></th>\n",
       "      <th>Number of Samples</th>\n",
       "      <th>Melody ID Range</th>\n",
       "      <th>Unique Melody IDs</th>\n",
       "      <th>Instrument ID Range</th>\n",
       "      <th>Unique Instrument IDs</th>\n",
       "      <th>Instruments Notes</th>\n",
       "    </tr>\n",
       "  </thead>\n",
       "  <tbody>\n",
       "    <tr>\n",
       "      <th>Train</th>\n",
       "      <td>35235</td>\n",
       "      <td>101-999</td>\n",
       "      <td>899</td>\n",
       "      <td>001-104</td>\n",
       "      <td>94</td>\n",
       "      <td>Excludes 041-050</td>\n",
       "    </tr>\n",
       "    <tr>\n",
       "      <th>Val1</th>\n",
       "      <td>838</td>\n",
       "      <td>101-999</td>\n",
       "      <td>554</td>\n",
       "      <td>001-104</td>\n",
       "      <td>94</td>\n",
       "      <td>Excludes 041-050</td>\n",
       "    </tr>\n",
       "    <tr>\n",
       "      <th>Val2</th>\n",
       "      <td>799</td>\n",
       "      <td>101-997</td>\n",
       "      <td>545</td>\n",
       "      <td>041-050</td>\n",
       "      <td>10</td>\n",
       "      <td>Only 041-050</td>\n",
       "    </tr>\n",
       "    <tr>\n",
       "      <th>Test</th>\n",
       "      <td>1643</td>\n",
       "      <td>101-999</td>\n",
       "      <td>757</td>\n",
       "      <td>001-104</td>\n",
       "      <td>94</td>\n",
       "      <td>Excludes 041-050</td>\n",
       "    </tr>\n",
       "  </tbody>\n",
       "</table>\n",
       "</div>"
      ],
      "text/plain": [
       "       Number of Samples Melody ID Range  Unique Melody IDs  \\\n",
       "Train              35235         101-999                899   \n",
       "Val1                 838         101-999                554   \n",
       "Val2                 799         101-997                545   \n",
       "Test                1643         101-999                757   \n",
       "\n",
       "      Instrument ID Range  Unique Instrument IDs Instruments Notes  \n",
       "Train             001-104                     94  Excludes 041-050  \n",
       "Val1              001-104                     94  Excludes 041-050  \n",
       "Val2              041-050                     10      Only 041-050  \n",
       "Test              001-104                     94  Excludes 041-050  "
      ]
     },
     "execution_count": 12,
     "metadata": {},
     "output_type": "execute_result"
    }
   ],
   "source": [
    "stats_df"
   ]
  },
  {
   "cell_type": "code",
   "execution_count": 13,
   "id": "a2268450-b96d-4843-913a-f88c3b0fb0b9",
   "metadata": {},
   "outputs": [
    {
     "name": "stdout",
     "output_type": "stream",
     "text": [
      "\\begin{tabular}{lllll}\n",
      "\\toprule\n",
      "{} &             Train &              Val1 &          Val2 &              Test \\\\\n",
      "\\midrule\n",
      "Number of Samples     &             35235 &               838 &           799 &              1643 \\\\\n",
      "Melody ID Range       &           101-999 &           101-999 &       101-997 &           101-999 \\\\\n",
      "Unique Melody IDs     &               899 &               554 &           545 &               757 \\\\\n",
      "Instrument ID Range   &           001-104 &           001-104 &       041-050 &           001-104 \\\\\n",
      "Unique Instrument IDs &                94 &                94 &            10 &                94 \\\\\n",
      "Instruments Notes     &  Excludes 041-050 &  Excludes 041-050 &  Only 041-050 &  Excludes 041-050 \\\\\n",
      "\\bottomrule\n",
      "\\end{tabular}\n",
      "\n"
     ]
    },
    {
     "name": "stderr",
     "output_type": "stream",
     "text": [
      "/tmp/ipykernel_5877/633885615.py:2: FutureWarning: In future versions `DataFrame.to_latex` is expected to utilise the base implementation of `Styler.to_latex` for formatting and rendering. The arguments signature may therefore change. It is recommended instead to use `DataFrame.style.to_latex` which also contains additional functionality.\n",
      "  print(stats_df.T.to_latex())\n"
     ]
    }
   ],
   "source": [
    "# Convert to latex\n",
    "print(stats_df.T.to_latex())"
   ]
  },
  {
   "cell_type": "code",
   "execution_count": null,
   "id": "3525c121-6126-4a9f-9a95-c78fe4ea4d5b",
   "metadata": {},
   "outputs": [],
   "source": []
  }
 ],
 "metadata": {
  "kernelspec": {
   "display_name": "base",
   "language": "python",
   "name": "base"
  },
  "language_info": {
   "codemirror_mode": {
    "name": "ipython",
    "version": 3
   },
   "file_extension": ".py",
   "mimetype": "text/x-python",
   "name": "python",
   "nbconvert_exporter": "python",
   "pygments_lexer": "ipython3",
   "version": "3.8.5"
  }
 },
 "nbformat": 4,
 "nbformat_minor": 5
}
