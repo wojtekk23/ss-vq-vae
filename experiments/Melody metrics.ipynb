{
 "cells": [
  {
   "cell_type": "markdown",
   "metadata": {},
   "source": [
    "# Tests of different melody metrics"
   ]
  },
  {
   "cell_type": "code",
   "execution_count": 14,
   "metadata": {},
   "outputs": [],
   "source": [
    "import essentia.standard as estd\n",
    "import numpy as np\n",
    "import librosa\n",
    "from scipy.signal import square\n",
    "import pretty_midi"
   ]
  },
  {
   "cell_type": "markdown",
   "metadata": {},
   "source": [
    "## Utils"
   ]
  },
  {
   "cell_type": "code",
   "execution_count": 15,
   "metadata": {},
   "outputs": [],
   "source": [
    "# Function to generate synthetic melody using sine waves\n",
    "def generate_melody_sine_wave(frequencies, durations, sample_rate=44100):\n",
    "    audio = np.array([])\n",
    "    for freq, duration in zip(frequencies, durations):\n",
    "        t = np.linspace(0, duration, int(sample_rate * duration), endpoint=False)\n",
    "        note_audio = 0.5 * np.sin(2 * np.pi * freq * t)\n",
    "        audio = np.concatenate([audio, note_audio])\n",
    "    return audio\n",
    "\n",
    "# Function to generate synthetic melody using square waves\n",
    "def generate_melody_square_wave(frequencies, durations, sample_rate=44100):\n",
    "    audio = np.array([])\n",
    "    for freq, duration in zip(frequencies, durations):\n",
    "        t = np.linspace(0, duration, int(sample_rate * duration), endpoint=False)\n",
    "        note_audio = 0.5 * square(2 * np.pi * freq * t)\n",
    "        audio = np.concatenate([audio, note_audio])\n",
    "    return audio\n",
    "\n",
    "# Function to calculate Mean Squared Error (MSE)\n",
    "def mse(s1, s2):\n",
    "    return np.mean((s1 - s2)**2)\n",
    "\n",
    "# Generate synthetic melodies using sine waves\n",
    "audio_melody1_sine = generate_melody_sine_wave([440, 554, 660, 440], [0.5, 0.5, 0.5, 0.5])\n",
    "audio_melody2_sine = generate_melody_sine_wave([440, 554, 622, 440], [0.5, 0.5, 0.5, 0.5])\n",
    "\n",
    "# Generate synthetic melodies using square waves\n",
    "audio_melody1_square = generate_melody_square_wave([440, 554, 660, 440], [0.5, 0.5, 0.5, 0.5])\n",
    "audio_melody2_square = generate_melody_square_wave([440, 554, 622, 440], [0.5, 0.5, 0.5, 0.5])\n",
    "\n",
    "# Sample rate\n",
    "SR = 44100"
   ]
  },
  {
   "cell_type": "markdown",
   "metadata": {},
   "source": [
    "## Melody metric from the original paper"
   ]
  },
  {
   "cell_type": "code",
   "execution_count": 18,
   "metadata": {},
   "outputs": [],
   "source": [
    "def normalize_power(audio):\n",
    "    return audio / (np.sqrt(np.mean(audio ** 2)) + np.finfo(audio.dtype).eps)\n",
    "\n",
    "def get_pitches(audio):\n",
    "    input_sr, sr = SR, 8000  # Need to resample because of EqualLoudness\n",
    "    audio = estd.Resample(inputSampleRate=input_sr, outputSampleRate=sr)(audio)\n",
    "    audio = estd.EqualLoudness(sampleRate=sr)(audio)\n",
    "    rng = np.random.default_rng(seed=(audio > 0).sum())\n",
    "    audio = rng.normal(loc=audio, scale=1e-4).astype(audio.dtype)  # To prevent Melodia from crashing\n",
    "    pitches = estd.MultiPitchMelodia(sampleRate=sr)(audio)\n",
    "    pitches = [[pretty_midi.utilities.hz_to_note_number(p) for p in pl if not np.isclose(0, p)]\n",
    "               for pl in pitches]\n",
    "    pitches = [[int(p + 0.5) for p in pl] for pl in pitches]\n",
    "    return pitches\n",
    "\n",
    "def eval_example_content(output, reference):\n",
    "    pitches_output, pitches_reference = get_pitches(output), get_pitches(reference)\n",
    "    assert len(pitches_output) == len(pitches_reference)\n",
    "    jaccard = []\n",
    "    for pl_output, pl_reference in zip(pitches_output, pitches_reference):\n",
    "        matches = len(set(pl_output) & set(pl_reference))\n",
    "        total = len(set(pl_output) | set(pl_reference))\n",
    "        if total == 0:\n",
    "            jaccard.append(0)\n",
    "        else:\n",
    "            jaccard.append(1 - matches / total)\n",
    "    jaccard = np.mean(jaccard)\n",
    "    return {'pitch_jaccard': jaccard}"
   ]
  },
  {
   "cell_type": "markdown",
   "metadata": {},
   "source": [
    "## Melody metric based on chromagrams"
   ]
  },
  {
   "cell_type": "code",
   "execution_count": 21,
   "metadata": {},
   "outputs": [],
   "source": [
    "def generate_chromagram(audio, sample_rate=44100, hop_length=512, n_fft=2048):\n",
    "    chroma = librosa.feature.chroma_stft(audio, sr=sample_rate, hop_length=hop_length, n_fft=n_fft)\n",
    "    return chroma\n",
    "\n",
    "# Function to calculate Mean Squared Error (MSE) between two chromagrams\n",
    "def chroma_mse(chroma1, chroma2):\n",
    "    # Make sure both chromagrams have the same shape\n",
    "    min_length = min(chroma1.shape[1], chroma2.shape[1])\n",
    "    chroma1 = chroma1[:, :min_length]\n",
    "    chroma2 = chroma2[:, :min_length]\n",
    "    \n",
    "    return mse(chroma1, chroma2)\n",
    "\n",
    "def eval_example_content_custom(output, reference, sr=44100):\n",
    "    chroma_output, chroma_reference = generate_chromagram(output, sample_rate=sr), generate_chromagram(reference, sample_rate=sr)\n",
    "    return chroma_mse(chroma_output, chroma_reference)"
   ]
  },
  {
   "cell_type": "markdown",
   "metadata": {},
   "source": [
    "## Evaluation"
   ]
  },
  {
   "cell_type": "code",
   "execution_count": 23,
   "metadata": {},
   "outputs": [
    {
     "name": "stdout",
     "output_type": "stream",
     "text": [
      "Same audio:\n",
      "    Original: 0.0\n",
      "    Custom  : 0.0\n",
      "Same timbre, diff melodies (sine):\n",
      "    Original: 0.20634920634920634\n",
      "    Custom  : 0.024996413211660296\n",
      "Same timbre, diff melodies (square):\n",
      "    Original: 0.25396825396825395\n",
      "    Custom  : 0.026707178677720746\n",
      "Diff timbre, diff melodies 1:\n",
      "    Original: 0.25396825396825395\n",
      "    Custom  : 0.025914413357136037\n",
      "Diff timbre, diff melodies 2:\n",
      "    Original: 0.25396825396825395\n",
      "    Custom  : 0.031775932941804454\n",
      "Same melody, diff timbre 1:\n",
      "    Original: 0.047619047619047616\n",
      "    Custom  : 0.0041432371282374035\n",
      "Same melody, diff timbre 2:\n",
      "    Original: 0.047619047619047616\n",
      "    Custom  : 0.0029856399720020583\n"
     ]
    }
   ],
   "source": [
    "from itertools import product\n",
    "\n",
    "cases = [\n",
    "    (\"Same audio\", audio_melody1_sine, audio_melody1_sine),\n",
    "    (\"Same timbre, diff melodies (sine)\", audio_melody1_sine, audio_melody2_sine),\n",
    "    (\"Same timbre, diff melodies (square)\", audio_melody1_square, audio_melody2_square),\n",
    "    (\"Diff timbre, diff melodies 1\", audio_melody1_sine, audio_melody2_square),\n",
    "    (\"Diff timbre, diff melodies 2\", audio_melody1_square, audio_melody2_sine),\n",
    "    (\"Same melody, diff timbre 1\", audio_melody1_sine, audio_melody1_square),\n",
    "    (\"Same melody, diff timbre 2\", audio_melody2_sine, audio_melody2_square),\n",
    "]\n",
    "\n",
    "for name, a1, a2 in cases:\n",
    "    original = eval_example_content(a1, a2)['pitch_jaccard']\n",
    "    custom = eval_example_content_custom(a1, a2)\n",
    "    print(f\"{name}:\")\n",
    "    print(f\"    Original: {original}\")\n",
    "    print(f\"    Custom  : {custom}\")"
   ]
  },
  {
   "cell_type": "code",
   "execution_count": null,
   "metadata": {},
   "outputs": [],
   "source": []
  }
 ],
 "metadata": {
  "kernelspec": {
   "display_name": "conda",
   "language": "python",
   "name": "conda"
  },
  "language_info": {
   "codemirror_mode": {
    "name": "ipython",
    "version": 3
   },
   "file_extension": ".py",
   "mimetype": "text/x-python",
   "name": "python",
   "nbconvert_exporter": "python",
   "pygments_lexer": "ipython3",
   "version": "3.8.10"
  }
 },
 "nbformat": 4,
 "nbformat_minor": 4
}
